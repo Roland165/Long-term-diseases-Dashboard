{
 "cells": [
  {
   "cell_type": "code",
   "execution_count": 1,
   "id": "a1eb6238",
   "metadata": {},
   "outputs": [],
   "source": [
    "import pandas as pd \n",
    "import numpy as np\n",
    "import matplotlib.pyplot as plt\n"
   ]
  },
  {
   "cell_type": "markdown",
   "id": "3a41adc4",
   "metadata": {},
   "source": [
    "I choose a dataset on data.gouv.fr : https://www.data.gouv.fr/datasets/pathologies-effectif-de-patients-par-pathologie-sexe-classe-dage-et-territoire-departement-region/community-resources\n",
    "\n",
    "This dataset provides information on the number of patients treated for various pathologies, chronic treatments, or episodes of care covered by the French national health insurance system. It includes data from 2015 to 2023, updated in July 2025. \n",
    "\n",
    "The dataset is broken down by pathology, treatment type, age group, sex, region, and department. It also includes reimbursed expenses for people without the listed pathologies or treatments, as well as the prevalence of each condition (the proportion of patients affected in the population). \n",
    "\n",
    "The population used corresponds to all beneficiaries of compulsory health insurance who received at least one reimbursed healthcare service or had at least one hospital stay during the year. Small patient counts (less than 11) are masked for statistical confidentiality."
   ]
  },
  {
   "cell_type": "code",
   "execution_count": 2,
   "id": "dce8963d",
   "metadata": {},
   "outputs": [],
   "source": [
    "df = pd.read_csv('data/effectifs.csv', sep=';')"
   ]
  },
  {
   "cell_type": "code",
   "execution_count": 3,
   "id": "fdff9434",
   "metadata": {},
   "outputs": [
    {
     "data": {
      "text/html": [
       "<div>\n",
       "<style scoped>\n",
       "    .dataframe tbody tr th:only-of-type {\n",
       "        vertical-align: middle;\n",
       "    }\n",
       "\n",
       "    .dataframe tbody tr th {\n",
       "        vertical-align: top;\n",
       "    }\n",
       "\n",
       "    .dataframe thead th {\n",
       "        text-align: right;\n",
       "    }\n",
       "</style>\n",
       "<table border=\"1\" class=\"dataframe\">\n",
       "  <thead>\n",
       "    <tr style=\"text-align: right;\">\n",
       "      <th></th>\n",
       "      <th>annee</th>\n",
       "      <th>patho_niv1</th>\n",
       "      <th>patho_niv2</th>\n",
       "      <th>patho_niv3</th>\n",
       "      <th>top</th>\n",
       "      <th>cla_age_5</th>\n",
       "      <th>sexe</th>\n",
       "      <th>region</th>\n",
       "      <th>dept</th>\n",
       "      <th>Ntop</th>\n",
       "      <th>Npop</th>\n",
       "      <th>prev</th>\n",
       "      <th>Niveau prioritaire</th>\n",
       "      <th>libelle_classe_age</th>\n",
       "      <th>libelle_sexe</th>\n",
       "      <th>tri</th>\n",
       "    </tr>\n",
       "  </thead>\n",
       "  <tbody>\n",
       "    <tr>\n",
       "      <th>0</th>\n",
       "      <td>2023</td>\n",
       "      <td>Maladies cardioneurovasculaires</td>\n",
       "      <td>Maladie valvulaire</td>\n",
       "      <td>Maladie valvulaire</td>\n",
       "      <td>MCV_MVA_IND</td>\n",
       "      <td>75-79</td>\n",
       "      <td>1</td>\n",
       "      <td>1</td>\n",
       "      <td>999</td>\n",
       "      <td>110.0</td>\n",
       "      <td>7290</td>\n",
       "      <td>1.523</td>\n",
       "      <td>2,3</td>\n",
       "      <td>de 75 à 79 ans</td>\n",
       "      <td>hommes</td>\n",
       "      <td>31.0</td>\n",
       "    </tr>\n",
       "    <tr>\n",
       "      <th>1</th>\n",
       "      <td>2023</td>\n",
       "      <td>Maladies cardioneurovasculaires</td>\n",
       "      <td>Maladie valvulaire</td>\n",
       "      <td>Maladie valvulaire</td>\n",
       "      <td>MCV_MVA_IND</td>\n",
       "      <td>75-79</td>\n",
       "      <td>1</td>\n",
       "      <td>2</td>\n",
       "      <td>972</td>\n",
       "      <td>120.0</td>\n",
       "      <td>7080</td>\n",
       "      <td>1.640</td>\n",
       "      <td>2,3</td>\n",
       "      <td>de 75 à 79 ans</td>\n",
       "      <td>hommes</td>\n",
       "      <td>31.0</td>\n",
       "    </tr>\n",
       "    <tr>\n",
       "      <th>2</th>\n",
       "      <td>2023</td>\n",
       "      <td>Maladies cardioneurovasculaires</td>\n",
       "      <td>Maladie valvulaire</td>\n",
       "      <td>Maladie valvulaire</td>\n",
       "      <td>MCV_MVA_IND</td>\n",
       "      <td>75-79</td>\n",
       "      <td>1</td>\n",
       "      <td>3</td>\n",
       "      <td>999</td>\n",
       "      <td>30.0</td>\n",
       "      <td>1590</td>\n",
       "      <td>1.638</td>\n",
       "      <td>2,3</td>\n",
       "      <td>de 75 à 79 ans</td>\n",
       "      <td>hommes</td>\n",
       "      <td>31.0</td>\n",
       "    </tr>\n",
       "    <tr>\n",
       "      <th>3</th>\n",
       "      <td>2023</td>\n",
       "      <td>Maladies cardioneurovasculaires</td>\n",
       "      <td>Maladie valvulaire</td>\n",
       "      <td>Maladie valvulaire</td>\n",
       "      <td>MCV_MVA_IND</td>\n",
       "      <td>75-79</td>\n",
       "      <td>1</td>\n",
       "      <td>4</td>\n",
       "      <td>999</td>\n",
       "      <td>250.0</td>\n",
       "      <td>10010</td>\n",
       "      <td>2.497</td>\n",
       "      <td>2,3</td>\n",
       "      <td>de 75 à 79 ans</td>\n",
       "      <td>hommes</td>\n",
       "      <td>31.0</td>\n",
       "    </tr>\n",
       "    <tr>\n",
       "      <th>4</th>\n",
       "      <td>2023</td>\n",
       "      <td>Maladies cardioneurovasculaires</td>\n",
       "      <td>Maladie valvulaire</td>\n",
       "      <td>Maladie valvulaire</td>\n",
       "      <td>MCV_MVA_IND</td>\n",
       "      <td>75-79</td>\n",
       "      <td>1</td>\n",
       "      <td>6</td>\n",
       "      <td>976</td>\n",
       "      <td>NaN</td>\n",
       "      <td>560</td>\n",
       "      <td>NaN</td>\n",
       "      <td>2,3</td>\n",
       "      <td>de 75 à 79 ans</td>\n",
       "      <td>hommes</td>\n",
       "      <td>31.0</td>\n",
       "    </tr>\n",
       "  </tbody>\n",
       "</table>\n",
       "</div>"
      ],
      "text/plain": [
       "   annee                       patho_niv1          patho_niv2  \\\n",
       "0   2023  Maladies cardioneurovasculaires  Maladie valvulaire   \n",
       "1   2023  Maladies cardioneurovasculaires  Maladie valvulaire   \n",
       "2   2023  Maladies cardioneurovasculaires  Maladie valvulaire   \n",
       "3   2023  Maladies cardioneurovasculaires  Maladie valvulaire   \n",
       "4   2023  Maladies cardioneurovasculaires  Maladie valvulaire   \n",
       "\n",
       "           patho_niv3          top cla_age_5  sexe  region dept   Ntop   Npop  \\\n",
       "0  Maladie valvulaire  MCV_MVA_IND     75-79     1       1  999  110.0   7290   \n",
       "1  Maladie valvulaire  MCV_MVA_IND     75-79     1       2  972  120.0   7080   \n",
       "2  Maladie valvulaire  MCV_MVA_IND     75-79     1       3  999   30.0   1590   \n",
       "3  Maladie valvulaire  MCV_MVA_IND     75-79     1       4  999  250.0  10010   \n",
       "4  Maladie valvulaire  MCV_MVA_IND     75-79     1       6  976    NaN    560   \n",
       "\n",
       "    prev Niveau prioritaire libelle_classe_age libelle_sexe   tri  \n",
       "0  1.523                2,3     de 75 à 79 ans       hommes  31.0  \n",
       "1  1.640                2,3     de 75 à 79 ans       hommes  31.0  \n",
       "2  1.638                2,3     de 75 à 79 ans       hommes  31.0  \n",
       "3  2.497                2,3     de 75 à 79 ans       hommes  31.0  \n",
       "4    NaN                2,3     de 75 à 79 ans       hommes  31.0  "
      ]
     },
     "execution_count": 3,
     "metadata": {},
     "output_type": "execute_result"
    }
   ],
   "source": [
    "df.head()"
   ]
  },
  {
   "cell_type": "markdown",
   "id": "e401c9fc",
   "metadata": {},
   "source": [
    "I will explain every feature to get a better understanding of them :\n",
    "- annee: This is the reference year of the data.\n",
    "\n",
    "- patho_niv1: This is the main category of the pathology or treatment. Example: \"Cardioneurovascular diseases\".\n",
    "\n",
    "- patho_niv2: This is a more specific subcategory of the pathology. Example: \"Valvular disease\".\n",
    "\n",
    "- patho_niv3: This is the most detailed level of the pathology or treatment (often identical to patho_niv2 if no further subdivision exists). Example: \"Valvular disease\".\n",
    "\n",
    "- top: This is an internal unique code used to identify the pathology or treatment in the mapping. Example: \"MCV_MVA_IND\".\n",
    "\n",
    "- cla_age_5: This is the coded age group, usually grouped in 5-year intervals. Example: \"75-79\".\n",
    "\n",
    "- sexe: This is the sex code: 1 = male, 2 = female (generally).\n",
    "\n",
    "- region: This is the code of the administrative region.\n",
    "\n",
    "- dept: This is the code of the administrative department.\n",
    "\n",
    "- Ntop: This is the number of patients treated for this pathology in the area. Values <11 are masked as \"NS\" (Not Significant) to protect confidentiality.\n",
    "\n",
    "- Npop: This is the total reference population for the area and age group.\n",
    "\n",
    "- prev: This is the prevalence, i.e., the percentage of patients affected by the pathology within the reference population.\n",
    "\n",
    "- Niveau prioritaire: This indicates the priority level or internal hierarchical category, often used for data visualization (e.g., \"2,3\").\n",
    "\n",
    "- libelle_classe_age: This is the readable label for the age class. Example: \"from 75 to 79 years old\".\n",
    "\n",
    "- libelle_sexe: This is the readable label for sex. Example: \"men\" or \"women\".\n",
    "\n",
    "- tri: This is a sorting variable used for display or ranking in visualizations."
   ]
  },
  {
   "cell_type": "code",
   "execution_count": 4,
   "id": "d731476d",
   "metadata": {},
   "outputs": [
    {
     "data": {
      "text/plain": [
       "(5216400, 16)"
      ]
     },
     "execution_count": 4,
     "metadata": {},
     "output_type": "execute_result"
    }
   ],
   "source": [
    "df.shape"
   ]
  },
  {
   "cell_type": "markdown",
   "id": "a27bcebe",
   "metadata": {},
   "source": [
    "This dataset is way too big, we will have to remove some fetures and lines."
   ]
  },
  {
   "cell_type": "code",
   "execution_count": 5,
   "id": "55273dca",
   "metadata": {},
   "outputs": [
    {
     "data": {
      "text/plain": [
       "Index(['annee', 'patho_niv1', 'patho_niv2', 'patho_niv3', 'top', 'cla_age_5',\n",
       "       'sexe', 'region', 'dept', 'Ntop', 'Npop', 'prev', 'Niveau prioritaire',\n",
       "       'libelle_classe_age', 'libelle_sexe', 'tri'],\n",
       "      dtype='object')"
      ]
     },
     "execution_count": 5,
     "metadata": {},
     "output_type": "execute_result"
    }
   ],
   "source": [
    "df.columns"
   ]
  },
  {
   "cell_type": "markdown",
   "id": "21025fdf",
   "metadata": {},
   "source": [
    "Let's see and remove null lines because we don't need to make this complicated as we have too much data."
   ]
  },
  {
   "cell_type": "code",
   "execution_count": 6,
   "id": "084ff2d4",
   "metadata": {},
   "outputs": [
    {
     "data": {
      "text/plain": [
       "annee                       0\n",
       "patho_niv1                  0\n",
       "patho_niv2             544320\n",
       "patho_niv3            1179360\n",
       "top                         0\n",
       "cla_age_5                   0\n",
       "sexe                        0\n",
       "region                      0\n",
       "dept                        0\n",
       "Ntop                  1382435\n",
       "Npop                        0\n",
       "prev                  1382435\n",
       "Niveau prioritaire      68040\n",
       "libelle_classe_age          0\n",
       "libelle_sexe                0\n",
       "tri                     68040\n",
       "dtype: int64"
      ]
     },
     "execution_count": 6,
     "metadata": {},
     "output_type": "execute_result"
    }
   ],
   "source": [
    "df.isnull().sum()"
   ]
  },
  {
   "cell_type": "code",
   "execution_count": 7,
   "id": "69ee2344",
   "metadata": {},
   "outputs": [],
   "source": [
    "df = df.dropna()"
   ]
  },
  {
   "cell_type": "code",
   "execution_count": 8,
   "id": "b476cc4b",
   "metadata": {},
   "outputs": [
    {
     "data": {
      "text/plain": [
       "(2784685, 16)"
      ]
     },
     "execution_count": 8,
     "metadata": {},
     "output_type": "execute_result"
    }
   ],
   "source": [
    "df.shape"
   ]
  },
  {
   "cell_type": "markdown",
   "id": "7058c910",
   "metadata": {},
   "source": [
    "This is a better size but we can do more. First let's change this year into a real date, this will be helpful after."
   ]
  },
  {
   "cell_type": "code",
   "execution_count": 9,
   "id": "8cbbe15f",
   "metadata": {},
   "outputs": [
    {
     "name": "stdout",
     "output_type": "stream",
     "text": [
      "<class 'pandas.core.frame.DataFrame'>\n",
      "Index: 2784685 entries, 0 to 5216399\n",
      "Data columns (total 16 columns):\n",
      " #   Column              Dtype  \n",
      "---  ------              -----  \n",
      " 0   annee               int64  \n",
      " 1   patho_niv1          object \n",
      " 2   patho_niv2          object \n",
      " 3   patho_niv3          object \n",
      " 4   top                 object \n",
      " 5   cla_age_5           object \n",
      " 6   sexe                int64  \n",
      " 7   region              int64  \n",
      " 8   dept                object \n",
      " 9   Ntop                float64\n",
      " 10  Npop                int64  \n",
      " 11  prev                float64\n",
      " 12  Niveau prioritaire  object \n",
      " 13  libelle_classe_age  object \n",
      " 14  libelle_sexe        object \n",
      " 15  tri                 float64\n",
      "dtypes: float64(3), int64(4), object(9)\n",
      "memory usage: 361.2+ MB\n"
     ]
    }
   ],
   "source": [
    "df.info()"
   ]
  },
  {
   "cell_type": "code",
   "execution_count": 10,
   "id": "5b6c7759",
   "metadata": {},
   "outputs": [
    {
     "name": "stdout",
     "output_type": "stream",
     "text": [
      "<class 'pandas.core.frame.DataFrame'>\n",
      "Index: 2784685 entries, 0 to 5216399\n",
      "Data columns (total 16 columns):\n",
      " #   Column              Dtype         \n",
      "---  ------              -----         \n",
      " 0   annee               datetime64[ns]\n",
      " 1   patho_niv1          object        \n",
      " 2   patho_niv2          object        \n",
      " 3   patho_niv3          object        \n",
      " 4   top                 object        \n",
      " 5   cla_age_5           object        \n",
      " 6   sexe                int64         \n",
      " 7   region              int64         \n",
      " 8   dept                object        \n",
      " 9   Ntop                float64       \n",
      " 10  Npop                int64         \n",
      " 11  prev                float64       \n",
      " 12  Niveau prioritaire  object        \n",
      " 13  libelle_classe_age  object        \n",
      " 14  libelle_sexe        object        \n",
      " 15  tri                 float64       \n",
      "dtypes: datetime64[ns](1), float64(3), int64(3), object(9)\n",
      "memory usage: 361.2+ MB\n"
     ]
    }
   ],
   "source": [
    "# change df[\"annee\"] to datetime\n",
    "df[\"annee\"] = pd.to_datetime(df[\"annee\"], format='%Y')\n",
    "df.info()"
   ]
  },
  {
   "cell_type": "markdown",
   "id": "b9036ec8",
   "metadata": {},
   "source": [
    "Let's reduc the number of lines by starting in 2021 where the Covid pandemic was really huge."
   ]
  },
  {
   "cell_type": "code",
   "execution_count": 11,
   "id": "1f570275",
   "metadata": {},
   "outputs": [],
   "source": [
    "# now i want to start from 2021\n",
    "df = df[df[\"annee\"] >= \"2015-01-01\"]"
   ]
  },
  {
   "cell_type": "code",
   "execution_count": 12,
   "id": "1672fca3",
   "metadata": {},
   "outputs": [
    {
     "data": {
      "text/plain": [
       "annee\n",
       "2022-01-01    316017\n",
       "2023-01-01    315239\n",
       "2021-01-01    314968\n",
       "2020-01-01    312635\n",
       "2019-01-01    307285\n",
       "2018-01-01    306341\n",
       "2017-01-01    305376\n",
       "2016-01-01    304117\n",
       "2015-01-01    302707\n",
       "Name: count, dtype: int64"
      ]
     },
     "execution_count": 12,
     "metadata": {},
     "output_type": "execute_result"
    }
   ],
   "source": [
    "df[\"annee\"].value_counts()"
   ]
  },
  {
   "cell_type": "code",
   "execution_count": 13,
   "id": "22595656",
   "metadata": {},
   "outputs": [
    {
     "data": {
      "text/plain": [
       "sexe\n",
       "9    1012114\n",
       "2     891816\n",
       "1     880755\n",
       "Name: count, dtype: int64"
      ]
     },
     "execution_count": 13,
     "metadata": {},
     "output_type": "execute_result"
    }
   ],
   "source": [
    "df[\"sexe\"].value_counts()"
   ]
  },
  {
   "cell_type": "code",
   "execution_count": 14,
   "id": "b618b04a",
   "metadata": {},
   "outputs": [
    {
     "data": {
      "text/html": [
       "<div>\n",
       "<style scoped>\n",
       "    .dataframe tbody tr th:only-of-type {\n",
       "        vertical-align: middle;\n",
       "    }\n",
       "\n",
       "    .dataframe tbody tr th {\n",
       "        vertical-align: top;\n",
       "    }\n",
       "\n",
       "    .dataframe thead th {\n",
       "        text-align: right;\n",
       "    }\n",
       "</style>\n",
       "<table border=\"1\" class=\"dataframe\">\n",
       "  <thead>\n",
       "    <tr style=\"text-align: right;\">\n",
       "      <th></th>\n",
       "      <th>annee</th>\n",
       "      <th>patho_niv1</th>\n",
       "      <th>patho_niv2</th>\n",
       "      <th>patho_niv3</th>\n",
       "      <th>top</th>\n",
       "      <th>cla_age_5</th>\n",
       "      <th>sexe</th>\n",
       "      <th>region</th>\n",
       "      <th>dept</th>\n",
       "      <th>Ntop</th>\n",
       "      <th>Npop</th>\n",
       "      <th>prev</th>\n",
       "      <th>Niveau prioritaire</th>\n",
       "      <th>libelle_classe_age</th>\n",
       "      <th>libelle_sexe</th>\n",
       "      <th>tri</th>\n",
       "    </tr>\n",
       "  </thead>\n",
       "  <tbody>\n",
       "    <tr>\n",
       "      <th>0</th>\n",
       "      <td>2023-01-01</td>\n",
       "      <td>Maladies cardioneurovasculaires</td>\n",
       "      <td>Maladie valvulaire</td>\n",
       "      <td>Maladie valvulaire</td>\n",
       "      <td>MCV_MVA_IND</td>\n",
       "      <td>75-79</td>\n",
       "      <td>1</td>\n",
       "      <td>1</td>\n",
       "      <td>999</td>\n",
       "      <td>110.0</td>\n",
       "      <td>7290</td>\n",
       "      <td>1.523</td>\n",
       "      <td>2,3</td>\n",
       "      <td>de 75 à 79 ans</td>\n",
       "      <td>hommes</td>\n",
       "      <td>31.0</td>\n",
       "    </tr>\n",
       "    <tr>\n",
       "      <th>1</th>\n",
       "      <td>2023-01-01</td>\n",
       "      <td>Maladies cardioneurovasculaires</td>\n",
       "      <td>Maladie valvulaire</td>\n",
       "      <td>Maladie valvulaire</td>\n",
       "      <td>MCV_MVA_IND</td>\n",
       "      <td>75-79</td>\n",
       "      <td>1</td>\n",
       "      <td>2</td>\n",
       "      <td>972</td>\n",
       "      <td>120.0</td>\n",
       "      <td>7080</td>\n",
       "      <td>1.640</td>\n",
       "      <td>2,3</td>\n",
       "      <td>de 75 à 79 ans</td>\n",
       "      <td>hommes</td>\n",
       "      <td>31.0</td>\n",
       "    </tr>\n",
       "    <tr>\n",
       "      <th>2</th>\n",
       "      <td>2023-01-01</td>\n",
       "      <td>Maladies cardioneurovasculaires</td>\n",
       "      <td>Maladie valvulaire</td>\n",
       "      <td>Maladie valvulaire</td>\n",
       "      <td>MCV_MVA_IND</td>\n",
       "      <td>75-79</td>\n",
       "      <td>1</td>\n",
       "      <td>3</td>\n",
       "      <td>999</td>\n",
       "      <td>30.0</td>\n",
       "      <td>1590</td>\n",
       "      <td>1.638</td>\n",
       "      <td>2,3</td>\n",
       "      <td>de 75 à 79 ans</td>\n",
       "      <td>hommes</td>\n",
       "      <td>31.0</td>\n",
       "    </tr>\n",
       "    <tr>\n",
       "      <th>3</th>\n",
       "      <td>2023-01-01</td>\n",
       "      <td>Maladies cardioneurovasculaires</td>\n",
       "      <td>Maladie valvulaire</td>\n",
       "      <td>Maladie valvulaire</td>\n",
       "      <td>MCV_MVA_IND</td>\n",
       "      <td>75-79</td>\n",
       "      <td>1</td>\n",
       "      <td>4</td>\n",
       "      <td>999</td>\n",
       "      <td>250.0</td>\n",
       "      <td>10010</td>\n",
       "      <td>2.497</td>\n",
       "      <td>2,3</td>\n",
       "      <td>de 75 à 79 ans</td>\n",
       "      <td>hommes</td>\n",
       "      <td>31.0</td>\n",
       "    </tr>\n",
       "    <tr>\n",
       "      <th>6</th>\n",
       "      <td>2023-01-01</td>\n",
       "      <td>Maladies cardioneurovasculaires</td>\n",
       "      <td>Maladie valvulaire</td>\n",
       "      <td>Maladie valvulaire</td>\n",
       "      <td>MCV_MVA_IND</td>\n",
       "      <td>75-79</td>\n",
       "      <td>1</td>\n",
       "      <td>11</td>\n",
       "      <td>75</td>\n",
       "      <td>940.0</td>\n",
       "      <td>35700</td>\n",
       "      <td>2.642</td>\n",
       "      <td>2,3</td>\n",
       "      <td>de 75 à 79 ans</td>\n",
       "      <td>hommes</td>\n",
       "      <td>31.0</td>\n",
       "    </tr>\n",
       "  </tbody>\n",
       "</table>\n",
       "</div>"
      ],
      "text/plain": [
       "       annee                       patho_niv1          patho_niv2  \\\n",
       "0 2023-01-01  Maladies cardioneurovasculaires  Maladie valvulaire   \n",
       "1 2023-01-01  Maladies cardioneurovasculaires  Maladie valvulaire   \n",
       "2 2023-01-01  Maladies cardioneurovasculaires  Maladie valvulaire   \n",
       "3 2023-01-01  Maladies cardioneurovasculaires  Maladie valvulaire   \n",
       "6 2023-01-01  Maladies cardioneurovasculaires  Maladie valvulaire   \n",
       "\n",
       "           patho_niv3          top cla_age_5  sexe  region dept   Ntop   Npop  \\\n",
       "0  Maladie valvulaire  MCV_MVA_IND     75-79     1       1  999  110.0   7290   \n",
       "1  Maladie valvulaire  MCV_MVA_IND     75-79     1       2  972  120.0   7080   \n",
       "2  Maladie valvulaire  MCV_MVA_IND     75-79     1       3  999   30.0   1590   \n",
       "3  Maladie valvulaire  MCV_MVA_IND     75-79     1       4  999  250.0  10010   \n",
       "6  Maladie valvulaire  MCV_MVA_IND     75-79     1      11   75  940.0  35700   \n",
       "\n",
       "    prev Niveau prioritaire libelle_classe_age libelle_sexe   tri  \n",
       "0  1.523                2,3     de 75 à 79 ans       hommes  31.0  \n",
       "1  1.640                2,3     de 75 à 79 ans       hommes  31.0  \n",
       "2  1.638                2,3     de 75 à 79 ans       hommes  31.0  \n",
       "3  2.497                2,3     de 75 à 79 ans       hommes  31.0  \n",
       "6  2.642                2,3     de 75 à 79 ans       hommes  31.0  "
      ]
     },
     "execution_count": 14,
     "metadata": {},
     "output_type": "execute_result"
    }
   ],
   "source": [
    "df.head()"
   ]
  },
  {
   "cell_type": "markdown",
   "id": "16df70bf",
   "metadata": {},
   "source": [
    "There is 9 values in the sexe column which references basically to unknow sex so we delete it.\n",
    "Also the department 99 is there for not specified departments so we delete those rows"
   ]
  },
  {
   "cell_type": "code",
   "execution_count": 16,
   "id": "3df55bb7",
   "metadata": {},
   "outputs": [],
   "source": [
    "df = df[df[\"sexe\"] != 9]\n",
    "df = df[df[\"dept\"] != 99]"
   ]
  },
  {
   "cell_type": "markdown",
   "id": "9aa1afc8",
   "metadata": {},
   "source": [
    "The top column is only a code for the 3 levels of patho, we don't need it.\n",
    "\n",
    "Niveau prioritaire is a intern priority level, we don't need it.\n",
    "\n",
    "We already have sex with 1 and zeros so we don't need libelle_sexe.\n",
    "\n",
    "Same for libelle_classe_age, we already have cla_age_5.\n",
    "\n",
    "Finally tri is a sorting variable for visualisation in intern but we are going to create our own visualisations so we don't need it"
   ]
  },
  {
   "cell_type": "code",
   "execution_count": 17,
   "id": "3d0e1cc5",
   "metadata": {},
   "outputs": [
    {
     "data": {
      "text/html": [
       "<div>\n",
       "<style scoped>\n",
       "    .dataframe tbody tr th:only-of-type {\n",
       "        vertical-align: middle;\n",
       "    }\n",
       "\n",
       "    .dataframe tbody tr th {\n",
       "        vertical-align: top;\n",
       "    }\n",
       "\n",
       "    .dataframe thead th {\n",
       "        text-align: right;\n",
       "    }\n",
       "</style>\n",
       "<table border=\"1\" class=\"dataframe\">\n",
       "  <thead>\n",
       "    <tr style=\"text-align: right;\">\n",
       "      <th></th>\n",
       "      <th>annee</th>\n",
       "      <th>patho_niv1</th>\n",
       "      <th>patho_niv2</th>\n",
       "      <th>patho_niv3</th>\n",
       "      <th>cla_age_5</th>\n",
       "      <th>sexe</th>\n",
       "      <th>region</th>\n",
       "      <th>dept</th>\n",
       "      <th>Ntop</th>\n",
       "      <th>Npop</th>\n",
       "      <th>prev</th>\n",
       "    </tr>\n",
       "  </thead>\n",
       "  <tbody>\n",
       "    <tr>\n",
       "      <th>0</th>\n",
       "      <td>2023-01-01</td>\n",
       "      <td>Maladies cardioneurovasculaires</td>\n",
       "      <td>Maladie valvulaire</td>\n",
       "      <td>Maladie valvulaire</td>\n",
       "      <td>75-79</td>\n",
       "      <td>1</td>\n",
       "      <td>1</td>\n",
       "      <td>999</td>\n",
       "      <td>110.0</td>\n",
       "      <td>7290</td>\n",
       "      <td>1.523</td>\n",
       "    </tr>\n",
       "    <tr>\n",
       "      <th>1</th>\n",
       "      <td>2023-01-01</td>\n",
       "      <td>Maladies cardioneurovasculaires</td>\n",
       "      <td>Maladie valvulaire</td>\n",
       "      <td>Maladie valvulaire</td>\n",
       "      <td>75-79</td>\n",
       "      <td>1</td>\n",
       "      <td>2</td>\n",
       "      <td>972</td>\n",
       "      <td>120.0</td>\n",
       "      <td>7080</td>\n",
       "      <td>1.640</td>\n",
       "    </tr>\n",
       "    <tr>\n",
       "      <th>2</th>\n",
       "      <td>2023-01-01</td>\n",
       "      <td>Maladies cardioneurovasculaires</td>\n",
       "      <td>Maladie valvulaire</td>\n",
       "      <td>Maladie valvulaire</td>\n",
       "      <td>75-79</td>\n",
       "      <td>1</td>\n",
       "      <td>3</td>\n",
       "      <td>999</td>\n",
       "      <td>30.0</td>\n",
       "      <td>1590</td>\n",
       "      <td>1.638</td>\n",
       "    </tr>\n",
       "    <tr>\n",
       "      <th>3</th>\n",
       "      <td>2023-01-01</td>\n",
       "      <td>Maladies cardioneurovasculaires</td>\n",
       "      <td>Maladie valvulaire</td>\n",
       "      <td>Maladie valvulaire</td>\n",
       "      <td>75-79</td>\n",
       "      <td>1</td>\n",
       "      <td>4</td>\n",
       "      <td>999</td>\n",
       "      <td>250.0</td>\n",
       "      <td>10010</td>\n",
       "      <td>2.497</td>\n",
       "    </tr>\n",
       "    <tr>\n",
       "      <th>6</th>\n",
       "      <td>2023-01-01</td>\n",
       "      <td>Maladies cardioneurovasculaires</td>\n",
       "      <td>Maladie valvulaire</td>\n",
       "      <td>Maladie valvulaire</td>\n",
       "      <td>75-79</td>\n",
       "      <td>1</td>\n",
       "      <td>11</td>\n",
       "      <td>75</td>\n",
       "      <td>940.0</td>\n",
       "      <td>35700</td>\n",
       "      <td>2.642</td>\n",
       "    </tr>\n",
       "  </tbody>\n",
       "</table>\n",
       "</div>"
      ],
      "text/plain": [
       "       annee                       patho_niv1          patho_niv2  \\\n",
       "0 2023-01-01  Maladies cardioneurovasculaires  Maladie valvulaire   \n",
       "1 2023-01-01  Maladies cardioneurovasculaires  Maladie valvulaire   \n",
       "2 2023-01-01  Maladies cardioneurovasculaires  Maladie valvulaire   \n",
       "3 2023-01-01  Maladies cardioneurovasculaires  Maladie valvulaire   \n",
       "6 2023-01-01  Maladies cardioneurovasculaires  Maladie valvulaire   \n",
       "\n",
       "           patho_niv3 cla_age_5  sexe  region dept   Ntop   Npop   prev  \n",
       "0  Maladie valvulaire     75-79     1       1  999  110.0   7290  1.523  \n",
       "1  Maladie valvulaire     75-79     1       2  972  120.0   7080  1.640  \n",
       "2  Maladie valvulaire     75-79     1       3  999   30.0   1590  1.638  \n",
       "3  Maladie valvulaire     75-79     1       4  999  250.0  10010  2.497  \n",
       "6  Maladie valvulaire     75-79     1      11   75  940.0  35700  2.642  "
      ]
     },
     "execution_count": 17,
     "metadata": {},
     "output_type": "execute_result"
    }
   ],
   "source": [
    "df.drop(columns = 'top', inplace=True)\n",
    "df.drop(columns = 'Niveau prioritaire', inplace=True)\n",
    "df.drop(columns = 'libelle_classe_age', inplace=True)\n",
    "df.drop(columns = 'libelle_sexe', inplace=True)\n",
    "df.drop(columns = 'tri', inplace=True)\n",
    "\n",
    "df.head()"
   ]
  },
  {
   "cell_type": "markdown",
   "id": "09def7d9",
   "metadata": {},
   "source": [
    "Let's export our new clean csv."
   ]
  },
  {
   "cell_type": "code",
   "execution_count": 18,
   "id": "77b908f2",
   "metadata": {},
   "outputs": [],
   "source": [
    "df.to_csv('data/effectifs_cleaned.csv', index=False)"
   ]
  }
 ],
 "metadata": {
  "kernelspec": {
   "display_name": "base",
   "language": "python",
   "name": "python3"
  },
  "language_info": {
   "codemirror_mode": {
    "name": "ipython",
    "version": 3
   },
   "file_extension": ".py",
   "mimetype": "text/x-python",
   "name": "python",
   "nbconvert_exporter": "python",
   "pygments_lexer": "ipython3",
   "version": "3.12.7"
  }
 },
 "nbformat": 4,
 "nbformat_minor": 5
}
